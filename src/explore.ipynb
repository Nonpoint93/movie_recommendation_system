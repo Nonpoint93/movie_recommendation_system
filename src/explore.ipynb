{
    "cells": [
        {
            "cell_type": "markdown",
            "metadata": {},
            "source": [
                "# Explore here"
            ]
        },
        {
            "cell_type": "code",
            "execution_count": 328,
            "metadata": {},
            "outputs": [],
            "source": [
                "# Your code here\n",
                "from sqlalchemy import create_engine, text\n",
                "import pandas as pd\n",
                "from dotenv import load_dotenv\n",
                "import os\n",
                "import json\n"
            ]
        },
        {
            "cell_type": "code",
            "execution_count": 329,
            "metadata": {},
            "outputs": [
                {
                    "data": {
                        "text/plain": [
                            "True"
                        ]
                    },
                    "execution_count": 329,
                    "metadata": {},
                    "output_type": "execute_result"
                }
            ],
            "source": [
                "load_dotenv()"
            ]
        },
        {
            "cell_type": "code",
            "execution_count": 330,
            "metadata": {},
            "outputs": [
                {
                    "name": "stdout",
                    "output_type": "stream",
                    "text": [
                        "[INFO] Connected to database\n"
                    ]
                }
            ],
            "source": [
                "try:\n",
                "    connection_string = f\"postgresql://{os.getenv('DB_USER')}:{os.getenv('DB_PASSWORD')}@{os.getenv('DB_HOST')}/{os.getenv('DB_NAME')}\"\n",
                "    engine = create_engine(connection_string).execution_options(autocommit=True)\n",
                "    connection = engine.connect()\n",
                "    print(\"[INFO] Connected to database\")\n",
                "except Exception as e:\n",
                "    print(f\"[ERROR] Error connecting to database: {e}\")"
            ]
        },
        {
            "cell_type": "code",
            "execution_count": 331,
            "metadata": {},
            "outputs": [
                {
                    "name": "stdout",
                    "output_type": "stream",
                    "text": [
                        "[INFO] movies table created successfully\n"
                    ]
                }
            ],
            "source": [
                "try:\n",
                "    with engine.connect() as connection:\n",
                "        connection.execute(text(\"\"\"\n",
                "        CREATE TABLE IF NOT EXISTS movies (\n",
                "            id INT PRIMARY KEY,\n",
                "            budget INT,\n",
                "            genres TEXT,\n",
                "            homepage TEXT,\n",
                "            keywords TEXT,\n",
                "            original_language TEXT,\n",
                "            original_title TEXT,\n",
                "            overview TEXT,\n",
                "            popularity FLOAT,\n",
                "            production_companies TEXT,\n",
                "            production_countries TEXT,\n",
                "            release_date TEXT,\n",
                "            revenue INT,\n",
                "            runtime FLOAT,\n",
                "            spoken_languages TEXT,\n",
                "            txt_status TEXT,\n",
                "            tagline TEXT,\n",
                "            title TEXT,\n",
                "            vote_average FLOAT,\n",
                "            vote_count INT\n",
                "        );\n",
                "        \"\"\"))\n",
                "        print(\"[INFO] movies table created successfully\")\n",
                "except Exception as e:\n",
                "    print(f\"[ERROR] Error creating movies table: {e}\")"
            ]
        },
        {
            "cell_type": "code",
            "execution_count": 332,
            "metadata": {},
            "outputs": [
                {
                    "name": "stdout",
                    "output_type": "stream",
                    "text": [
                        "[INFO] credits table created successfully\n"
                    ]
                }
            ],
            "source": [
                "try:\n",
                "    with engine.connect() as connection:\n",
                "        connection.execute(text(\"\"\"\n",
                "        CREATE TABLE IF NOT EXISTS credits (\n",
                "            movie_id INT,\n",
                "            title TEXT,\n",
                "            txt_cast TEXT,\n",
                "            crew TEXT\n",
                "        );\n",
                "        \"\"\"))\n",
                "        print(\"[INFO] credits table created successfully\")\n",
                "except Exception as e:\n",
                "    print(f\"[ERROR] Error creating credits table: {e}\")"
            ]
        },
        {
            "cell_type": "code",
            "execution_count": 333,
            "metadata": {},
            "outputs": [],
            "source": [
                "try:\n",
                "    df_movies = pd.read_csv('https://raw.githubusercontent.com/4GeeksAcademy/k-nearest-neighbors-project-tutorial/main/tmdb_5000_movies.csv', delimiter=',')\n",
                "except Exception as e:\n",
                "    print(f\"[INFO] Error reading the file from the URL: {e}\")\n",
                "\n",
                "try:\n",
                "    df_credits = pd.read_csv('https://raw.githubusercontent.com/4GeeksAcademy/k-nearest-neighbors-project-tutorial/main/tmdb_5000_credits.csv', delimiter=',')\n",
                "except Exception as e:\n",
                "    print(f\"[ERROR] Error reading the file from the URL: {e}\")"
            ]
        },
        {
            "cell_type": "code",
            "execution_count": 334,
            "metadata": {},
            "outputs": [
                {
                    "data": {
                        "text/html": [
                            "<div>\n",
                            "<style scoped>\n",
                            "    .dataframe tbody tr th:only-of-type {\n",
                            "        vertical-align: middle;\n",
                            "    }\n",
                            "\n",
                            "    .dataframe tbody tr th {\n",
                            "        vertical-align: top;\n",
                            "    }\n",
                            "\n",
                            "    .dataframe thead th {\n",
                            "        text-align: right;\n",
                            "    }\n",
                            "</style>\n",
                            "<table border=\"1\" class=\"dataframe\">\n",
                            "  <thead>\n",
                            "    <tr style=\"text-align: right;\">\n",
                            "      <th></th>\n",
                            "      <th>budget</th>\n",
                            "      <th>genres</th>\n",
                            "      <th>homepage</th>\n",
                            "      <th>id</th>\n",
                            "      <th>keywords</th>\n",
                            "      <th>original_language</th>\n",
                            "      <th>original_title</th>\n",
                            "      <th>overview</th>\n",
                            "      <th>popularity</th>\n",
                            "      <th>production_companies</th>\n",
                            "      <th>production_countries</th>\n",
                            "      <th>release_date</th>\n",
                            "      <th>revenue</th>\n",
                            "      <th>runtime</th>\n",
                            "      <th>spoken_languages</th>\n",
                            "      <th>status</th>\n",
                            "      <th>tagline</th>\n",
                            "      <th>title</th>\n",
                            "      <th>vote_average</th>\n",
                            "      <th>vote_count</th>\n",
                            "    </tr>\n",
                            "  </thead>\n",
                            "  <tbody>\n",
                            "    <tr>\n",
                            "      <th>0</th>\n",
                            "      <td>237000000</td>\n",
                            "      <td>[{\"id\": 28, \"name\": \"Action\"}, {\"id\": 12, \"nam...</td>\n",
                            "      <td>http://www.avatarmovie.com/</td>\n",
                            "      <td>19995</td>\n",
                            "      <td>[{\"id\": 1463, \"name\": \"culture clash\"}, {\"id\":...</td>\n",
                            "      <td>en</td>\n",
                            "      <td>Avatar</td>\n",
                            "      <td>In the 22nd century, a paraplegic Marine is di...</td>\n",
                            "      <td>150.437577</td>\n",
                            "      <td>[{\"name\": \"Ingenious Film Partners\", \"id\": 289...</td>\n",
                            "      <td>[{\"iso_3166_1\": \"US\", \"name\": \"United States o...</td>\n",
                            "      <td>2009-12-10</td>\n",
                            "      <td>2787965087</td>\n",
                            "      <td>162.0</td>\n",
                            "      <td>[{\"iso_639_1\": \"en\", \"name\": \"English\"}, {\"iso...</td>\n",
                            "      <td>Released</td>\n",
                            "      <td>Enter the World of Pandora.</td>\n",
                            "      <td>Avatar</td>\n",
                            "      <td>7.2</td>\n",
                            "      <td>11800</td>\n",
                            "    </tr>\n",
                            "    <tr>\n",
                            "      <th>1</th>\n",
                            "      <td>300000000</td>\n",
                            "      <td>[{\"id\": 12, \"name\": \"Adventure\"}, {\"id\": 14, \"...</td>\n",
                            "      <td>http://disney.go.com/disneypictures/pirates/</td>\n",
                            "      <td>285</td>\n",
                            "      <td>[{\"id\": 270, \"name\": \"ocean\"}, {\"id\": 726, \"na...</td>\n",
                            "      <td>en</td>\n",
                            "      <td>Pirates of the Caribbean: At World's End</td>\n",
                            "      <td>Captain Barbossa, long believed to be dead, ha...</td>\n",
                            "      <td>139.082615</td>\n",
                            "      <td>[{\"name\": \"Walt Disney Pictures\", \"id\": 2}, {\"...</td>\n",
                            "      <td>[{\"iso_3166_1\": \"US\", \"name\": \"United States o...</td>\n",
                            "      <td>2007-05-19</td>\n",
                            "      <td>961000000</td>\n",
                            "      <td>169.0</td>\n",
                            "      <td>[{\"iso_639_1\": \"en\", \"name\": \"English\"}]</td>\n",
                            "      <td>Released</td>\n",
                            "      <td>At the end of the world, the adventure begins.</td>\n",
                            "      <td>Pirates of the Caribbean: At World's End</td>\n",
                            "      <td>6.9</td>\n",
                            "      <td>4500</td>\n",
                            "    </tr>\n",
                            "    <tr>\n",
                            "      <th>2</th>\n",
                            "      <td>245000000</td>\n",
                            "      <td>[{\"id\": 28, \"name\": \"Action\"}, {\"id\": 12, \"nam...</td>\n",
                            "      <td>http://www.sonypictures.com/movies/spectre/</td>\n",
                            "      <td>206647</td>\n",
                            "      <td>[{\"id\": 470, \"name\": \"spy\"}, {\"id\": 818, \"name...</td>\n",
                            "      <td>en</td>\n",
                            "      <td>Spectre</td>\n",
                            "      <td>A cryptic message from Bond’s past sends him o...</td>\n",
                            "      <td>107.376788</td>\n",
                            "      <td>[{\"name\": \"Columbia Pictures\", \"id\": 5}, {\"nam...</td>\n",
                            "      <td>[{\"iso_3166_1\": \"GB\", \"name\": \"United Kingdom\"...</td>\n",
                            "      <td>2015-10-26</td>\n",
                            "      <td>880674609</td>\n",
                            "      <td>148.0</td>\n",
                            "      <td>[{\"iso_639_1\": \"fr\", \"name\": \"Fran\\u00e7ais\"},...</td>\n",
                            "      <td>Released</td>\n",
                            "      <td>A Plan No One Escapes</td>\n",
                            "      <td>Spectre</td>\n",
                            "      <td>6.3</td>\n",
                            "      <td>4466</td>\n",
                            "    </tr>\n",
                            "  </tbody>\n",
                            "</table>\n",
                            "</div>"
                        ],
                        "text/plain": [
                            "      budget                                             genres  \\\n",
                            "0  237000000  [{\"id\": 28, \"name\": \"Action\"}, {\"id\": 12, \"nam...   \n",
                            "1  300000000  [{\"id\": 12, \"name\": \"Adventure\"}, {\"id\": 14, \"...   \n",
                            "2  245000000  [{\"id\": 28, \"name\": \"Action\"}, {\"id\": 12, \"nam...   \n",
                            "\n",
                            "                                       homepage      id  \\\n",
                            "0                   http://www.avatarmovie.com/   19995   \n",
                            "1  http://disney.go.com/disneypictures/pirates/     285   \n",
                            "2   http://www.sonypictures.com/movies/spectre/  206647   \n",
                            "\n",
                            "                                            keywords original_language  \\\n",
                            "0  [{\"id\": 1463, \"name\": \"culture clash\"}, {\"id\":...                en   \n",
                            "1  [{\"id\": 270, \"name\": \"ocean\"}, {\"id\": 726, \"na...                en   \n",
                            "2  [{\"id\": 470, \"name\": \"spy\"}, {\"id\": 818, \"name...                en   \n",
                            "\n",
                            "                             original_title  \\\n",
                            "0                                    Avatar   \n",
                            "1  Pirates of the Caribbean: At World's End   \n",
                            "2                                   Spectre   \n",
                            "\n",
                            "                                            overview  popularity  \\\n",
                            "0  In the 22nd century, a paraplegic Marine is di...  150.437577   \n",
                            "1  Captain Barbossa, long believed to be dead, ha...  139.082615   \n",
                            "2  A cryptic message from Bond’s past sends him o...  107.376788   \n",
                            "\n",
                            "                                production_companies  \\\n",
                            "0  [{\"name\": \"Ingenious Film Partners\", \"id\": 289...   \n",
                            "1  [{\"name\": \"Walt Disney Pictures\", \"id\": 2}, {\"...   \n",
                            "2  [{\"name\": \"Columbia Pictures\", \"id\": 5}, {\"nam...   \n",
                            "\n",
                            "                                production_countries release_date     revenue  \\\n",
                            "0  [{\"iso_3166_1\": \"US\", \"name\": \"United States o...   2009-12-10  2787965087   \n",
                            "1  [{\"iso_3166_1\": \"US\", \"name\": \"United States o...   2007-05-19   961000000   \n",
                            "2  [{\"iso_3166_1\": \"GB\", \"name\": \"United Kingdom\"...   2015-10-26   880674609   \n",
                            "\n",
                            "   runtime                                   spoken_languages    status  \\\n",
                            "0    162.0  [{\"iso_639_1\": \"en\", \"name\": \"English\"}, {\"iso...  Released   \n",
                            "1    169.0           [{\"iso_639_1\": \"en\", \"name\": \"English\"}]  Released   \n",
                            "2    148.0  [{\"iso_639_1\": \"fr\", \"name\": \"Fran\\u00e7ais\"},...  Released   \n",
                            "\n",
                            "                                          tagline  \\\n",
                            "0                     Enter the World of Pandora.   \n",
                            "1  At the end of the world, the adventure begins.   \n",
                            "2                           A Plan No One Escapes   \n",
                            "\n",
                            "                                      title  vote_average  vote_count  \n",
                            "0                                    Avatar           7.2       11800  \n",
                            "1  Pirates of the Caribbean: At World's End           6.9        4500  \n",
                            "2                                   Spectre           6.3        4466  "
                        ]
                    },
                    "execution_count": 334,
                    "metadata": {},
                    "output_type": "execute_result"
                }
            ],
            "source": [
                "df_movies.head(3)"
            ]
        },
        {
            "cell_type": "code",
            "execution_count": 335,
            "metadata": {},
            "outputs": [
                {
                    "name": "stdout",
                    "output_type": "stream",
                    "text": [
                        "<class 'pandas.core.frame.DataFrame'>\n",
                        "RangeIndex: 4803 entries, 0 to 4802\n",
                        "Data columns (total 20 columns):\n",
                        " #   Column                Non-Null Count  Dtype  \n",
                        "---  ------                --------------  -----  \n",
                        " 0   budget                4803 non-null   int64  \n",
                        " 1   genres                4803 non-null   object \n",
                        " 2   homepage              1712 non-null   object \n",
                        " 3   id                    4803 non-null   int64  \n",
                        " 4   keywords              4803 non-null   object \n",
                        " 5   original_language     4803 non-null   object \n",
                        " 6   original_title        4803 non-null   object \n",
                        " 7   overview              4800 non-null   object \n",
                        " 8   popularity            4803 non-null   float64\n",
                        " 9   production_companies  4803 non-null   object \n",
                        " 10  production_countries  4803 non-null   object \n",
                        " 11  release_date          4802 non-null   object \n",
                        " 12  revenue               4803 non-null   int64  \n",
                        " 13  runtime               4801 non-null   float64\n",
                        " 14  spoken_languages      4803 non-null   object \n",
                        " 15  status                4803 non-null   object \n",
                        " 16  tagline               3959 non-null   object \n",
                        " 17  title                 4803 non-null   object \n",
                        " 18  vote_average          4803 non-null   float64\n",
                        " 19  vote_count            4803 non-null   int64  \n",
                        "dtypes: float64(3), int64(4), object(13)\n",
                        "memory usage: 750.6+ KB\n"
                    ]
                }
            ],
            "source": [
                "df_movies.info()"
            ]
        },
        {
            "cell_type": "code",
            "execution_count": 336,
            "metadata": {},
            "outputs": [
                {
                    "data": {
                        "text/html": [
                            "<div>\n",
                            "<style scoped>\n",
                            "    .dataframe tbody tr th:only-of-type {\n",
                            "        vertical-align: middle;\n",
                            "    }\n",
                            "\n",
                            "    .dataframe tbody tr th {\n",
                            "        vertical-align: top;\n",
                            "    }\n",
                            "\n",
                            "    .dataframe thead th {\n",
                            "        text-align: right;\n",
                            "    }\n",
                            "</style>\n",
                            "<table border=\"1\" class=\"dataframe\">\n",
                            "  <thead>\n",
                            "    <tr style=\"text-align: right;\">\n",
                            "      <th></th>\n",
                            "      <th>movie_id</th>\n",
                            "      <th>title</th>\n",
                            "      <th>cast</th>\n",
                            "      <th>crew</th>\n",
                            "    </tr>\n",
                            "  </thead>\n",
                            "  <tbody>\n",
                            "    <tr>\n",
                            "      <th>0</th>\n",
                            "      <td>19995</td>\n",
                            "      <td>Avatar</td>\n",
                            "      <td>[{\"cast_id\": 242, \"character\": \"Jake Sully\", \"...</td>\n",
                            "      <td>[{\"credit_id\": \"52fe48009251416c750aca23\", \"de...</td>\n",
                            "    </tr>\n",
                            "    <tr>\n",
                            "      <th>1</th>\n",
                            "      <td>285</td>\n",
                            "      <td>Pirates of the Caribbean: At World's End</td>\n",
                            "      <td>[{\"cast_id\": 4, \"character\": \"Captain Jack Spa...</td>\n",
                            "      <td>[{\"credit_id\": \"52fe4232c3a36847f800b579\", \"de...</td>\n",
                            "    </tr>\n",
                            "    <tr>\n",
                            "      <th>2</th>\n",
                            "      <td>206647</td>\n",
                            "      <td>Spectre</td>\n",
                            "      <td>[{\"cast_id\": 1, \"character\": \"James Bond\", \"cr...</td>\n",
                            "      <td>[{\"credit_id\": \"54805967c3a36829b5002c41\", \"de...</td>\n",
                            "    </tr>\n",
                            "  </tbody>\n",
                            "</table>\n",
                            "</div>"
                        ],
                        "text/plain": [
                            "   movie_id                                     title  \\\n",
                            "0     19995                                    Avatar   \n",
                            "1       285  Pirates of the Caribbean: At World's End   \n",
                            "2    206647                                   Spectre   \n",
                            "\n",
                            "                                                cast  \\\n",
                            "0  [{\"cast_id\": 242, \"character\": \"Jake Sully\", \"...   \n",
                            "1  [{\"cast_id\": 4, \"character\": \"Captain Jack Spa...   \n",
                            "2  [{\"cast_id\": 1, \"character\": \"James Bond\", \"cr...   \n",
                            "\n",
                            "                                                crew  \n",
                            "0  [{\"credit_id\": \"52fe48009251416c750aca23\", \"de...  \n",
                            "1  [{\"credit_id\": \"52fe4232c3a36847f800b579\", \"de...  \n",
                            "2  [{\"credit_id\": \"54805967c3a36829b5002c41\", \"de...  "
                        ]
                    },
                    "execution_count": 336,
                    "metadata": {},
                    "output_type": "execute_result"
                }
            ],
            "source": [
                "df_credits.head(3)"
            ]
        },
        {
            "cell_type": "code",
            "execution_count": 337,
            "metadata": {},
            "outputs": [
                {
                    "name": "stdout",
                    "output_type": "stream",
                    "text": [
                        "<class 'pandas.core.frame.DataFrame'>\n",
                        "RangeIndex: 4803 entries, 0 to 4802\n",
                        "Data columns (total 4 columns):\n",
                        " #   Column    Non-Null Count  Dtype \n",
                        "---  ------    --------------  ----- \n",
                        " 0   movie_id  4803 non-null   int64 \n",
                        " 1   title     4803 non-null   object\n",
                        " 2   cast      4803 non-null   object\n",
                        " 3   crew      4803 non-null   object\n",
                        "dtypes: int64(1), object(3)\n",
                        "memory usage: 150.2+ KB\n"
                    ]
                }
            ],
            "source": [
                "df_credits.info()"
            ]
        },
        {
            "cell_type": "code",
            "execution_count": 338,
            "metadata": {},
            "outputs": [
                {
                    "name": "stdout",
                    "output_type": "stream",
                    "text": [
                        "[INFO] Data written to the database in the movies table\n",
                        "[INFO] Data written to the database in the credits table\n"
                    ]
                }
            ],
            "source": [
                "try:\n",
                "    df_movies.to_sql('movies', engine, if_exists='replace', index=False)\n",
                "    print(\"[INFO] Data written to the database in the movies table\")\n",
                "except Exception as e:\n",
                "    print(f\"[ERROR] Error writing to the database: {e}\")\n",
                "\n",
                "try:\n",
                "    df_credits.to_sql('credits', engine, if_exists='replace', index=False)\n",
                "    print(\"[INFO] Data written to the database in the credits table\")\n",
                "except Exception as e:\n",
                "    print(f\"[ERROR] Error writing to the database: {e}\")"
            ]
        },
        {
            "cell_type": "code",
            "execution_count": 339,
            "metadata": {},
            "outputs": [
                {
                    "name": "stdout",
                    "output_type": "stream",
                    "text": [
                        "[INFO] Data read from the database\n"
                    ]
                }
            ],
            "source": [
                "query = \"\"\"\n",
                "    SELECT *\n",
                "    FROM movies\n",
                "    INNER JOIN credits\n",
                "    ON movies.title = credits.title;\n",
                "\"\"\"\n",
                "try:\n",
                "    with engine.connect() as connection:\n",
                "        movies_table = pd.read_sql_query(query, engine)\n",
                "        print(\"[INFO] Data read from the database\")\n",
                "        connection.close()\n",
                "except Exception as e:\n",
                "    print(f\"[ERROR] Error reading from the database: {e}\")\n"
            ]
        },
        {
            "cell_type": "code",
            "execution_count": 340,
            "metadata": {},
            "outputs": [
                {
                    "data": {
                        "text/html": [
                            "<div>\n",
                            "<style scoped>\n",
                            "    .dataframe tbody tr th:only-of-type {\n",
                            "        vertical-align: middle;\n",
                            "    }\n",
                            "\n",
                            "    .dataframe tbody tr th {\n",
                            "        vertical-align: top;\n",
                            "    }\n",
                            "\n",
                            "    .dataframe thead th {\n",
                            "        text-align: right;\n",
                            "    }\n",
                            "</style>\n",
                            "<table border=\"1\" class=\"dataframe\">\n",
                            "  <thead>\n",
                            "    <tr style=\"text-align: right;\">\n",
                            "      <th></th>\n",
                            "      <th>movie_id</th>\n",
                            "      <th>title</th>\n",
                            "      <th>overview</th>\n",
                            "      <th>genres</th>\n",
                            "      <th>keywords</th>\n",
                            "      <th>cast</th>\n",
                            "      <th>crew</th>\n",
                            "    </tr>\n",
                            "  </thead>\n",
                            "  <tbody>\n",
                            "    <tr>\n",
                            "      <th>0</th>\n",
                            "      <td>10481</td>\n",
                            "      <td>102 Dalmatians</td>\n",
                            "      <td>Get ready for a howling good time as an all ne...</td>\n",
                            "      <td>[{\"id\": 35, \"name\": \"Comedy\"}, {\"id\": 10751, \"...</td>\n",
                            "      <td>[{\"id\": 212, \"name\": \"london england\"}, {\"id\":...</td>\n",
                            "      <td>[{\"cast_id\": 1, \"character\": \"Cruella de Vil\",...</td>\n",
                            "      <td>[{\"credit_id\": \"5539fe5e9251413f5a00359b\", \"de...</td>\n",
                            "    </tr>\n",
                            "    <tr>\n",
                            "      <th>1</th>\n",
                            "      <td>333371</td>\n",
                            "      <td>10 Cloverfield Lane</td>\n",
                            "      <td>After a car accident, Michelle awakens to find...</td>\n",
                            "      <td>[{\"id\": 53, \"name\": \"Thriller\"}, {\"id\": 878, \"...</td>\n",
                            "      <td>[{\"id\": 1930, \"name\": \"kidnapping\"}, {\"id\": 23...</td>\n",
                            "      <td>[{\"cast_id\": 2, \"character\": \"Michelle\", \"cred...</td>\n",
                            "      <td>[{\"credit_id\": \"57627624c3a3680682000872\", \"de...</td>\n",
                            "    </tr>\n",
                            "    <tr>\n",
                            "      <th>2</th>\n",
                            "      <td>345003</td>\n",
                            "      <td>10 Days in a Madhouse</td>\n",
                            "      <td>Nellie Bly, a 23 year-old reporter for Joseph ...</td>\n",
                            "      <td>[{\"id\": 18, \"name\": \"Drama\"}]</td>\n",
                            "      <td>[{\"id\": 1568, \"name\": \"undercover\"}, {\"id\": 49...</td>\n",
                            "      <td>[{\"cast_id\": 2, \"character\": \"Nellie Bly\", \"cr...</td>\n",
                            "      <td>[{\"credit_id\": \"594efa1fc3a36832650455ff\", \"de...</td>\n",
                            "    </tr>\n",
                            "    <tr>\n",
                            "      <th>3</th>\n",
                            "      <td>4951</td>\n",
                            "      <td>10 Things I Hate About You</td>\n",
                            "      <td>Bianca, a tenth grader, has never gone on a da...</td>\n",
                            "      <td>[{\"id\": 35, \"name\": \"Comedy\"}, {\"id\": 10749, \"...</td>\n",
                            "      <td>[{\"id\": 497, \"name\": \"shakespeare\"}, {\"id\": 59...</td>\n",
                            "      <td>[{\"cast_id\": 2, \"character\": \"Patrick Verona\",...</td>\n",
                            "      <td>[{\"credit_id\": \"52fe43e6c3a36847f807731d\", \"de...</td>\n",
                            "    </tr>\n",
                            "    <tr>\n",
                            "      <th>4</th>\n",
                            "      <td>13197</td>\n",
                            "      <td>10th &amp; Wolf</td>\n",
                            "      <td>A former street tough returns to his Philadelp...</td>\n",
                            "      <td>[{\"id\": 28, \"name\": \"Action\"}, {\"id\": 80, \"nam...</td>\n",
                            "      <td>[{\"id\": 1568, \"name\": \"undercover\"}, {\"id\": 10...</td>\n",
                            "      <td>[{\"cast_id\": 1, \"character\": \"Tommy\", \"credit_...</td>\n",
                            "      <td>[{\"credit_id\": \"52fe454d9251416c75051e59\", \"de...</td>\n",
                            "    </tr>\n",
                            "  </tbody>\n",
                            "</table>\n",
                            "</div>"
                        ],
                        "text/plain": [
                            "   movie_id                       title  \\\n",
                            "0     10481              102 Dalmatians   \n",
                            "1    333371         10 Cloverfield Lane   \n",
                            "2    345003       10 Days in a Madhouse   \n",
                            "3      4951  10 Things I Hate About You   \n",
                            "4     13197                 10th & Wolf   \n",
                            "\n",
                            "                                            overview  \\\n",
                            "0  Get ready for a howling good time as an all ne...   \n",
                            "1  After a car accident, Michelle awakens to find...   \n",
                            "2  Nellie Bly, a 23 year-old reporter for Joseph ...   \n",
                            "3  Bianca, a tenth grader, has never gone on a da...   \n",
                            "4  A former street tough returns to his Philadelp...   \n",
                            "\n",
                            "                                              genres  \\\n",
                            "0  [{\"id\": 35, \"name\": \"Comedy\"}, {\"id\": 10751, \"...   \n",
                            "1  [{\"id\": 53, \"name\": \"Thriller\"}, {\"id\": 878, \"...   \n",
                            "2                      [{\"id\": 18, \"name\": \"Drama\"}]   \n",
                            "3  [{\"id\": 35, \"name\": \"Comedy\"}, {\"id\": 10749, \"...   \n",
                            "4  [{\"id\": 28, \"name\": \"Action\"}, {\"id\": 80, \"nam...   \n",
                            "\n",
                            "                                            keywords  \\\n",
                            "0  [{\"id\": 212, \"name\": \"london england\"}, {\"id\":...   \n",
                            "1  [{\"id\": 1930, \"name\": \"kidnapping\"}, {\"id\": 23...   \n",
                            "2  [{\"id\": 1568, \"name\": \"undercover\"}, {\"id\": 49...   \n",
                            "3  [{\"id\": 497, \"name\": \"shakespeare\"}, {\"id\": 59...   \n",
                            "4  [{\"id\": 1568, \"name\": \"undercover\"}, {\"id\": 10...   \n",
                            "\n",
                            "                                                cast  \\\n",
                            "0  [{\"cast_id\": 1, \"character\": \"Cruella de Vil\",...   \n",
                            "1  [{\"cast_id\": 2, \"character\": \"Michelle\", \"cred...   \n",
                            "2  [{\"cast_id\": 2, \"character\": \"Nellie Bly\", \"cr...   \n",
                            "3  [{\"cast_id\": 2, \"character\": \"Patrick Verona\",...   \n",
                            "4  [{\"cast_id\": 1, \"character\": \"Tommy\", \"credit_...   \n",
                            "\n",
                            "                                                crew  \n",
                            "0  [{\"credit_id\": \"5539fe5e9251413f5a00359b\", \"de...  \n",
                            "1  [{\"credit_id\": \"57627624c3a3680682000872\", \"de...  \n",
                            "2  [{\"credit_id\": \"594efa1fc3a36832650455ff\", \"de...  \n",
                            "3  [{\"credit_id\": \"52fe43e6c3a36847f807731d\", \"de...  \n",
                            "4  [{\"credit_id\": \"52fe454d9251416c75051e59\", \"de...  "
                        ]
                    },
                    "execution_count": 340,
                    "metadata": {},
                    "output_type": "execute_result"
                }
            ],
            "source": [
                "movies_table = movies_table.loc[:, ~movies_table.columns.duplicated()]\n",
                "movies_table = movies_table[['movie_id', 'title', 'overview', 'genres', 'keywords', 'cast', 'crew']]\n",
                "movies_table.head()"
            ]
        },
        {
            "cell_type": "code",
            "execution_count": 341,
            "metadata": {},
            "outputs": [],
            "source": [
                "def get_json(json_str, default_value=None):\n",
                "    try:\n",
                "        return json.loads(json_str)\n",
                "    except (TypeError, json.JSONDecodeError):\n",
                "        return default_value\n",
                "\n",
                "def extract_names_from_json(json_list):\n",
                "    if isinstance(json_list, list):\n",
                "        return [item['name'] for item in json_list if isinstance(item, dict) and 'name' in item]\n",
                "    return []\n",
                "\n",
                "def extract_cast_from_json(json_list):\n",
                "    if isinstance(json_list, list):\n",
                "        return [item['name'] for item in json_list[:3] if isinstance(item, dict) and 'name' in item]\n",
                "    return []\n",
                "\n",
                "def extract_director_from_json(json_list):\n",
                "    if isinstance(json_list, list):\n",
                "        for item in json_list:\n",
                "            if isinstance(item, dict) and item.get('job') == 'Director' and 'name' in item:\n",
                "                return item['name']\n",
                "    return \"\"\n",
                "\n",
                "def process_row(row):\n",
                "    genres = extract_names_from_json(get_json(row['genres']))\n",
                "    keywords = extract_names_from_json(get_json(row['keywords']))\n",
                "    cast = extract_cast_from_json(get_json(row['cast']))\n",
                "    director = extract_director_from_json(get_json(row['crew']))\n",
                "\n",
                "    overview = [str(row['overview'])] if pd.notna(row['overview']) else []\n",
                "\n",
                "    tags = overview + genres + keywords + cast + [director]\n",
                "    return \" \".join(filter(None, (\" \".join(tag.split()) for tag in map(str, tags))))\n"
            ]
        },
        {
            "cell_type": "code",
            "execution_count": 342,
            "metadata": {},
            "outputs": [
                {
                    "name": "stdout",
                    "output_type": "stream",
                    "text": [
                        "   movie_id                       title  \\\n",
                        "0     10481              102 Dalmatians   \n",
                        "1    333371         10 Cloverfield Lane   \n",
                        "2    345003       10 Days in a Madhouse   \n",
                        "3      4951  10 Things I Hate About You   \n",
                        "4     13197                 10th & Wolf   \n",
                        "\n",
                        "                                                tags  \n",
                        "0  Get ready for a howling good time as an all ne...  \n",
                        "1  After a car accident, Michelle awakens to find...  \n",
                        "2  Nellie Bly, a 23 year-old reporter for Joseph ...  \n",
                        "3  Bianca, a tenth grader, has never gone on a da...  \n",
                        "4  A former street tough returns to his Philadelp...  \n"
                    ]
                }
            ],
            "source": [
                "movies_table['tags'] = movies_table.apply(process_row, axis=1)\n",
                "\n",
                "columns_to_drop = ['genres', 'keywords', 'cast', 'crew', 'overview']\n",
                "movies_table.drop(columns=columns_to_drop, inplace=True)\n",
                "\n",
                "print(movies_table.head())\n"
            ]
        },
        {
            "cell_type": "code",
            "execution_count": 343,
            "metadata": {},
            "outputs": [
                {
                    "data": {
                        "text/html": [
                            "<div>\n",
                            "<style scoped>\n",
                            "    .dataframe tbody tr th:only-of-type {\n",
                            "        vertical-align: middle;\n",
                            "    }\n",
                            "\n",
                            "    .dataframe tbody tr th {\n",
                            "        vertical-align: top;\n",
                            "    }\n",
                            "\n",
                            "    .dataframe thead th {\n",
                            "        text-align: right;\n",
                            "    }\n",
                            "</style>\n",
                            "<table border=\"1\" class=\"dataframe\">\n",
                            "  <thead>\n",
                            "    <tr style=\"text-align: right;\">\n",
                            "      <th></th>\n",
                            "      <th>movie_id</th>\n",
                            "      <th>title</th>\n",
                            "      <th>tags</th>\n",
                            "    </tr>\n",
                            "  </thead>\n",
                            "  <tbody>\n",
                            "    <tr>\n",
                            "      <th>0</th>\n",
                            "      <td>10481</td>\n",
                            "      <td>102 Dalmatians</td>\n",
                            "      <td>Get ready for a howling good time as an all ne...</td>\n",
                            "    </tr>\n",
                            "    <tr>\n",
                            "      <th>1</th>\n",
                            "      <td>333371</td>\n",
                            "      <td>10 Cloverfield Lane</td>\n",
                            "      <td>After a car accident, Michelle awakens to find...</td>\n",
                            "    </tr>\n",
                            "    <tr>\n",
                            "      <th>2</th>\n",
                            "      <td>345003</td>\n",
                            "      <td>10 Days in a Madhouse</td>\n",
                            "      <td>Nellie Bly, a 23 year-old reporter for Joseph ...</td>\n",
                            "    </tr>\n",
                            "    <tr>\n",
                            "      <th>3</th>\n",
                            "      <td>4951</td>\n",
                            "      <td>10 Things I Hate About You</td>\n",
                            "      <td>Bianca, a tenth grader, has never gone on a da...</td>\n",
                            "    </tr>\n",
                            "    <tr>\n",
                            "      <th>4</th>\n",
                            "      <td>13197</td>\n",
                            "      <td>10th &amp; Wolf</td>\n",
                            "      <td>A former street tough returns to his Philadelp...</td>\n",
                            "    </tr>\n",
                            "  </tbody>\n",
                            "</table>\n",
                            "</div>"
                        ],
                        "text/plain": [
                            "   movie_id                       title  \\\n",
                            "0     10481              102 Dalmatians   \n",
                            "1    333371         10 Cloverfield Lane   \n",
                            "2    345003       10 Days in a Madhouse   \n",
                            "3      4951  10 Things I Hate About You   \n",
                            "4     13197                 10th & Wolf   \n",
                            "\n",
                            "                                                tags  \n",
                            "0  Get ready for a howling good time as an all ne...  \n",
                            "1  After a car accident, Michelle awakens to find...  \n",
                            "2  Nellie Bly, a 23 year-old reporter for Joseph ...  \n",
                            "3  Bianca, a tenth grader, has never gone on a da...  \n",
                            "4  A former street tough returns to his Philadelp...  "
                        ]
                    },
                    "execution_count": 343,
                    "metadata": {},
                    "output_type": "execute_result"
                }
            ],
            "source": [
                "movies_table.to_csv(\"../data/processed/movies_tags.csv\", index=False)\n",
                "\n",
                "movies_table.head(5)\n"
            ]
        },
        {
            "cell_type": "code",
            "execution_count": 344,
            "metadata": {},
            "outputs": [
                {
                    "name": "stdout",
                    "output_type": "stream",
                    "text": [
                        "[INFO] Tables dropped successfully\n"
                    ]
                }
            ],
            "source": [
                "try:\n",
                "    with engine.connect() as connection:\n",
                "        connection.execute(text(\"\"\"\n",
                "        DROP TABLE IF EXISTS movies; \"\"\"))\n",
                "        connection.execute(text(\"\"\"\n",
                "        DROP TABLE IF EXISTS credits ;\"\"\"))\n",
                "        connection.close()\n",
                "    print(\"[INFO] Tables dropped successfully\")\n",
                "except Exception as e:\n",
                "    print(f\"[ERROR] Error dropping tables: {e}\")\n"
            ]
        }
    ],
    "metadata": {
        "kernelspec": {
            "display_name": "Python 3",
            "language": "python",
            "name": "python3"
        },
        "language_info": {
            "codemirror_mode": {
                "name": "ipython",
                "version": 3
            },
            "file_extension": ".py",
            "mimetype": "text/x-python",
            "name": "python",
            "nbconvert_exporter": "python",
            "pygments_lexer": "ipython3",
            "version": "3.10.12"
        },
        "orig_nbformat": 4
    },
    "nbformat": 4,
    "nbformat_minor": 2
}
